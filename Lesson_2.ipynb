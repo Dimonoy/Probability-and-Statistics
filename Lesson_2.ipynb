{
 "cells": [
  {
   "cell_type": "code",
   "execution_count": 1,
   "id": "7cb37a76-89ca-4fc4-8aaa-4b266fbf7bab",
   "metadata": {},
   "outputs": [],
   "source": [
    "import pandas as pd\n",
    "import numpy as np\n",
    "import matplotlib.pyplot as plt\n",
    "from itertools import product\n",
    "\n",
    "plt.style.use('seaborn-whitegrid')\n",
    "%config InlineBackend.figure_formats = ['svg']"
   ]
  },
  {
   "cell_type": "code",
   "execution_count": 2,
   "id": "9ca9f2fd-4c4f-48e3-a9e4-12145e55c0db",
   "metadata": {},
   "outputs": [],
   "source": [
    "vals = np.array(list(product(np.arange(1, 7), repeat=2)))\n",
    "probs = np.ones(len(vals)) / 36\n",
    "vals = np.array(list(map(sum, vals)))"
   ]
  },
  {
   "cell_type": "code",
   "execution_count": 3,
   "id": "6d45e25c-6075-4b5a-8e08-68f79ac12067",
   "metadata": {},
   "outputs": [],
   "source": [
    "df = pd.DataFrame({'values': vals, 'probabilities': probs}).groupby('values')['probabilities'].sum()\n",
    "x_values = df.index.to_numpy()\n",
    "x_probabilities = df.values"
   ]
  },
  {
   "cell_type": "markdown",
   "id": "a891576d-4acc-495b-810f-e0c97c8cbdfa",
   "metadata": {},
   "source": [
    "Математическое ожидание"
   ]
  },
  {
   "cell_type": "code",
   "execution_count": 4,
   "id": "8ab20563-4bb8-4986-9ced-39321509137f",
   "metadata": {},
   "outputs": [],
   "source": [
    "m = (x_values * x_probabilities).sum().round()"
   ]
  },
  {
   "cell_type": "markdown",
   "id": "5905b1e6-b12f-4336-8d70-5140bd7af7f5",
   "metadata": {},
   "source": [
    "Дисперсия"
   ]
  },
  {
   "cell_type": "code",
   "execution_count": 5,
   "id": "cd1115db-ff20-47dc-aaac-7844545b4078",
   "metadata": {},
   "outputs": [],
   "source": [
    "d = (((x_values - m)**2) * x_probabilities).sum()"
   ]
  },
  {
   "cell_type": "markdown",
   "id": "b68a203a-cade-4b47-8599-4ee5f61b3efa",
   "metadata": {},
   "source": [
    "Биномиальное распределение"
   ]
  },
  {
   "cell_type": "code",
   "execution_count": 6,
   "id": "a186991e-2408-4d11-a9b0-32878b56a54b",
   "metadata": {},
   "outputs": [
    {
     "data": {
      "text/plain": [
       "(0.125, 0.375, 0.375, 0.125)"
      ]
     },
     "execution_count": 6,
     "metadata": {},
     "output_type": "execute_result"
    }
   ],
   "source": [
    "def bernoulli_proba(k, n, p):\n",
    "    return (np.math.factorial(n) / (np.math.factorial(k) * np.math.factorial(n-k))) * p**k * (1 - p)**(n-k) \n",
    "\n",
    "n = 3\n",
    "p = 0.5\n",
    "k1 = 0\n",
    "k2 = 1\n",
    "k3 = 2\n",
    "k4 = 3\n",
    "\n",
    "p_k1 = bernoulli_proba(k1, n, p)\n",
    "p_k2 = bernoulli_proba(k2, n, p)\n",
    "p_k3 = bernoulli_proba(k3, n, p)\n",
    "p_k4 = bernoulli_proba(k4, n, p)\n",
    "\n",
    "p_k1, p_k2, p_k3, p_k4"
   ]
  },
  {
   "cell_type": "code",
   "execution_count": 7,
   "id": "28da9297-01b4-41ab-a1f3-e7aff16ef84b",
   "metadata": {},
   "outputs": [
    {
     "data": {
      "image/svg+xml": [
       "<?xml version=\"1.0\" encoding=\"utf-8\" standalone=\"no\"?>\n",
       "<!DOCTYPE svg PUBLIC \"-//W3C//DTD SVG 1.1//EN\"\n",
       "  \"http://www.w3.org/Graphics/SVG/1.1/DTD/svg11.dtd\">\n",
       "<svg xmlns:xlink=\"http://www.w3.org/1999/xlink\" width=\"372.160937pt\" height=\"244.661875pt\" viewBox=\"0 0 372.160937 244.661875\" xmlns=\"http://www.w3.org/2000/svg\" version=\"1.1\">\n",
       " <metadata>\n",
       "  <rdf:RDF xmlns:dc=\"http://purl.org/dc/elements/1.1/\" xmlns:cc=\"http://creativecommons.org/ns#\" xmlns:rdf=\"http://www.w3.org/1999/02/22-rdf-syntax-ns#\">\n",
       "   <cc:Work>\n",
       "    <dc:type rdf:resource=\"http://purl.org/dc/dcmitype/StillImage\"/>\n",
       "    <dc:date>2022-02-08T11:24:16.326919</dc:date>\n",
       "    <dc:format>image/svg+xml</dc:format>\n",
       "    <dc:creator>\n",
       "     <cc:Agent>\n",
       "      <dc:title>Matplotlib v3.5.1, https://matplotlib.org/</dc:title>\n",
       "     </cc:Agent>\n",
       "    </dc:creator>\n",
       "   </cc:Work>\n",
       "  </rdf:RDF>\n",
       " </metadata>\n",
       " <defs>\n",
       "  <style type=\"text/css\">*{stroke-linejoin: round; stroke-linecap: butt}</style>\n",
       " </defs>\n",
       " <g id=\"figure_1\">\n",
       "  <g id=\"patch_1\">\n",
       "   <path d=\"M 0 244.661875 \n",
       "L 372.160937 244.661875 \n",
       "L 372.160937 0 \n",
       "L 0 0 \n",
       "z\n",
       "\" style=\"fill: #ffffff\"/>\n",
       "  </g>\n",
       "  <g id=\"axes_1\">\n",
       "   <g id=\"patch_2\">\n",
       "    <path d=\"M 30.160938 224.64 \n",
       "L 364.960938 224.64 \n",
       "L 364.960938 7.2 \n",
       "L 30.160938 7.2 \n",
       "z\n",
       "\" style=\"fill: #ffffff\"/>\n",
       "   </g>\n",
       "   <g id=\"matplotlib.axis_1\">\n",
       "    <g id=\"xtick_1\">\n",
       "     <g id=\"line2d_1\">\n",
       "      <path d=\"M 45.379119 224.64 \n",
       "L 45.379119 7.2 \n",
       "\" clip-path=\"url(#p7963f1e8c3)\" style=\"fill: none; stroke: #cccccc; stroke-width: 0.8; stroke-linecap: round\"/>\n",
       "     </g>\n",
       "     <g id=\"line2d_2\"/>\n",
       "     <g id=\"text_1\">\n",
       "      <!-- 0.0 -->\n",
       "      <g style=\"fill: #262626\" transform=\"translate(38.429119 235.386875)scale(0.1 -0.1)\">\n",
       "       <defs>\n",
       "        <path id=\"LiberationSans-30\" d=\"M 3309 2203 \n",
       "Q 3309 1100 2920 518 \n",
       "Q 2531 -63 1772 -63 \n",
       "Q 1013 -63 631 515 \n",
       "Q 250 1094 250 2203 \n",
       "Q 250 3338 620 3903 \n",
       "Q 991 4469 1791 4469 \n",
       "Q 2569 4469 2939 3897 \n",
       "Q 3309 3325 3309 2203 \n",
       "z\n",
       "M 2738 2203 \n",
       "Q 2738 3156 2517 3584 \n",
       "Q 2297 4013 1791 4013 \n",
       "Q 1272 4013 1045 3591 \n",
       "Q 819 3169 819 2203 \n",
       "Q 819 1266 1048 831 \n",
       "Q 1278 397 1778 397 \n",
       "Q 2275 397 2506 840 \n",
       "Q 2738 1284 2738 2203 \n",
       "z\n",
       "\" transform=\"scale(0.015625)\"/>\n",
       "        <path id=\"LiberationSans-2e\" d=\"M 584 0 \n",
       "L 584 684 \n",
       "L 1194 684 \n",
       "L 1194 0 \n",
       "L 584 0 \n",
       "z\n",
       "\" transform=\"scale(0.015625)\"/>\n",
       "       </defs>\n",
       "       <use xlink:href=\"#LiberationSans-30\"/>\n",
       "       <use xlink:href=\"#LiberationSans-2e\" x=\"55.615234\"/>\n",
       "       <use xlink:href=\"#LiberationSans-30\" x=\"83.398438\"/>\n",
       "      </g>\n",
       "     </g>\n",
       "    </g>\n",
       "    <g id=\"xtick_2\">\n",
       "     <g id=\"line2d_3\">\n",
       "      <path d=\"M 96.106392 224.64 \n",
       "L 96.106392 7.2 \n",
       "\" clip-path=\"url(#p7963f1e8c3)\" style=\"fill: none; stroke: #cccccc; stroke-width: 0.8; stroke-linecap: round\"/>\n",
       "     </g>\n",
       "     <g id=\"line2d_4\"/>\n",
       "     <g id=\"text_2\">\n",
       "      <!-- 0.5 -->\n",
       "      <g style=\"fill: #262626\" transform=\"translate(89.156392 235.386875)scale(0.1 -0.1)\">\n",
       "       <defs>\n",
       "        <path id=\"LiberationSans-35\" d=\"M 3291 1434 \n",
       "Q 3291 738 2877 337 \n",
       "Q 2463 -63 1728 -63 \n",
       "Q 1113 -63 734 206 \n",
       "Q 356 475 256 984 \n",
       "L 825 1050 \n",
       "Q 1003 397 1741 397 \n",
       "Q 2194 397 2450 670 \n",
       "Q 2706 944 2706 1422 \n",
       "Q 2706 1838 2448 2094 \n",
       "Q 2191 2350 1753 2350 \n",
       "Q 1525 2350 1328 2278 \n",
       "Q 1131 2206 934 2034 \n",
       "L 384 2034 \n",
       "L 531 4403 \n",
       "L 3034 4403 \n",
       "L 3034 3925 \n",
       "L 1044 3925 \n",
       "L 959 2528 \n",
       "Q 1325 2809 1869 2809 \n",
       "Q 2519 2809 2905 2428 \n",
       "Q 3291 2047 3291 1434 \n",
       "z\n",
       "\" transform=\"scale(0.015625)\"/>\n",
       "       </defs>\n",
       "       <use xlink:href=\"#LiberationSans-30\"/>\n",
       "       <use xlink:href=\"#LiberationSans-2e\" x=\"55.615234\"/>\n",
       "       <use xlink:href=\"#LiberationSans-35\" x=\"83.398438\"/>\n",
       "      </g>\n",
       "     </g>\n",
       "    </g>\n",
       "    <g id=\"xtick_3\">\n",
       "     <g id=\"line2d_5\">\n",
       "      <path d=\"M 146.833665 224.64 \n",
       "L 146.833665 7.2 \n",
       "\" clip-path=\"url(#p7963f1e8c3)\" style=\"fill: none; stroke: #cccccc; stroke-width: 0.8; stroke-linecap: round\"/>\n",
       "     </g>\n",
       "     <g id=\"line2d_6\"/>\n",
       "     <g id=\"text_3\">\n",
       "      <!-- 1.0 -->\n",
       "      <g style=\"fill: #262626\" transform=\"translate(139.883665 235.386875)scale(0.1 -0.1)\">\n",
       "       <defs>\n",
       "        <path id=\"LiberationSans-31\" d=\"M 488 0 \n",
       "L 488 478 \n",
       "L 1609 478 \n",
       "L 1609 3866 \n",
       "L 616 3156 \n",
       "L 616 3688 \n",
       "L 1656 4403 \n",
       "L 2175 4403 \n",
       "L 2175 478 \n",
       "L 3247 478 \n",
       "L 3247 0 \n",
       "L 488 0 \n",
       "z\n",
       "\" transform=\"scale(0.015625)\"/>\n",
       "       </defs>\n",
       "       <use xlink:href=\"#LiberationSans-31\"/>\n",
       "       <use xlink:href=\"#LiberationSans-2e\" x=\"55.615234\"/>\n",
       "       <use xlink:href=\"#LiberationSans-30\" x=\"83.398438\"/>\n",
       "      </g>\n",
       "     </g>\n",
       "    </g>\n",
       "    <g id=\"xtick_4\">\n",
       "     <g id=\"line2d_7\">\n",
       "      <path d=\"M 197.560938 224.64 \n",
       "L 197.560938 7.2 \n",
       "\" clip-path=\"url(#p7963f1e8c3)\" style=\"fill: none; stroke: #cccccc; stroke-width: 0.8; stroke-linecap: round\"/>\n",
       "     </g>\n",
       "     <g id=\"line2d_8\"/>\n",
       "     <g id=\"text_4\">\n",
       "      <!-- 1.5 -->\n",
       "      <g style=\"fill: #262626\" transform=\"translate(190.610938 235.386875)scale(0.1 -0.1)\">\n",
       "       <use xlink:href=\"#LiberationSans-31\"/>\n",
       "       <use xlink:href=\"#LiberationSans-2e\" x=\"55.615234\"/>\n",
       "       <use xlink:href=\"#LiberationSans-35\" x=\"83.398438\"/>\n",
       "      </g>\n",
       "     </g>\n",
       "    </g>\n",
       "    <g id=\"xtick_5\">\n",
       "     <g id=\"line2d_9\">\n",
       "      <path d=\"M 248.28821 224.64 \n",
       "L 248.28821 7.2 \n",
       "\" clip-path=\"url(#p7963f1e8c3)\" style=\"fill: none; stroke: #cccccc; stroke-width: 0.8; stroke-linecap: round\"/>\n",
       "     </g>\n",
       "     <g id=\"line2d_10\"/>\n",
       "     <g id=\"text_5\">\n",
       "      <!-- 2.0 -->\n",
       "      <g style=\"fill: #262626\" transform=\"translate(241.33821 235.386875)scale(0.1 -0.1)\">\n",
       "       <defs>\n",
       "        <path id=\"LiberationSans-32\" d=\"M 322 0 \n",
       "L 322 397 \n",
       "Q 481 763 711 1042 \n",
       "Q 941 1322 1194 1548 \n",
       "Q 1447 1775 1695 1969 \n",
       "Q 1944 2163 2144 2356 \n",
       "Q 2344 2550 2467 2762 \n",
       "Q 2591 2975 2591 3244 \n",
       "Q 2591 3606 2378 3806 \n",
       "Q 2166 4006 1788 4006 \n",
       "Q 1428 4006 1195 3811 \n",
       "Q 963 3616 922 3263 \n",
       "L 347 3316 \n",
       "Q 409 3844 795 4156 \n",
       "Q 1181 4469 1788 4469 \n",
       "Q 2453 4469 2811 4155 \n",
       "Q 3169 3841 3169 3263 \n",
       "Q 3169 3006 3051 2753 \n",
       "Q 2934 2500 2703 2247 \n",
       "Q 2472 1994 1819 1463 \n",
       "Q 1459 1169 1246 933 \n",
       "Q 1034 697 941 478 \n",
       "L 3238 478 \n",
       "L 3238 0 \n",
       "L 322 0 \n",
       "z\n",
       "\" transform=\"scale(0.015625)\"/>\n",
       "       </defs>\n",
       "       <use xlink:href=\"#LiberationSans-32\"/>\n",
       "       <use xlink:href=\"#LiberationSans-2e\" x=\"55.615234\"/>\n",
       "       <use xlink:href=\"#LiberationSans-30\" x=\"83.398438\"/>\n",
       "      </g>\n",
       "     </g>\n",
       "    </g>\n",
       "    <g id=\"xtick_6\">\n",
       "     <g id=\"line2d_11\">\n",
       "      <path d=\"M 299.015483 224.64 \n",
       "L 299.015483 7.2 \n",
       "\" clip-path=\"url(#p7963f1e8c3)\" style=\"fill: none; stroke: #cccccc; stroke-width: 0.8; stroke-linecap: round\"/>\n",
       "     </g>\n",
       "     <g id=\"line2d_12\"/>\n",
       "     <g id=\"text_6\">\n",
       "      <!-- 2.5 -->\n",
       "      <g style=\"fill: #262626\" transform=\"translate(292.065483 235.386875)scale(0.1 -0.1)\">\n",
       "       <use xlink:href=\"#LiberationSans-32\"/>\n",
       "       <use xlink:href=\"#LiberationSans-2e\" x=\"55.615234\"/>\n",
       "       <use xlink:href=\"#LiberationSans-35\" x=\"83.398438\"/>\n",
       "      </g>\n",
       "     </g>\n",
       "    </g>\n",
       "    <g id=\"xtick_7\">\n",
       "     <g id=\"line2d_13\">\n",
       "      <path d=\"M 349.742756 224.64 \n",
       "L 349.742756 7.2 \n",
       "\" clip-path=\"url(#p7963f1e8c3)\" style=\"fill: none; stroke: #cccccc; stroke-width: 0.8; stroke-linecap: round\"/>\n",
       "     </g>\n",
       "     <g id=\"line2d_14\"/>\n",
       "     <g id=\"text_7\">\n",
       "      <!-- 3.0 -->\n",
       "      <g style=\"fill: #262626\" transform=\"translate(342.792756 235.386875)scale(0.1 -0.1)\">\n",
       "       <defs>\n",
       "        <path id=\"LiberationSans-33\" d=\"M 3278 1216 \n",
       "Q 3278 606 2890 271 \n",
       "Q 2503 -63 1784 -63 \n",
       "Q 1116 -63 717 239 \n",
       "Q 319 541 244 1131 \n",
       "L 825 1184 \n",
       "Q 938 403 1784 403 \n",
       "Q 2209 403 2451 612 \n",
       "Q 2694 822 2694 1234 \n",
       "Q 2694 1594 2417 1795 \n",
       "Q 2141 1997 1619 1997 \n",
       "L 1300 1997 \n",
       "L 1300 2484 \n",
       "L 1606 2484 \n",
       "Q 2069 2484 2323 2686 \n",
       "Q 2578 2888 2578 3244 \n",
       "Q 2578 3597 2370 3801 \n",
       "Q 2163 4006 1753 4006 \n",
       "Q 1381 4006 1151 3815 \n",
       "Q 922 3625 884 3278 \n",
       "L 319 3322 \n",
       "Q 381 3863 767 4166 \n",
       "Q 1153 4469 1759 4469 \n",
       "Q 2422 4469 2789 4161 \n",
       "Q 3156 3853 3156 3303 \n",
       "Q 3156 2881 2920 2617 \n",
       "Q 2684 2353 2234 2259 \n",
       "L 2234 2247 \n",
       "Q 2728 2194 3003 1916 \n",
       "Q 3278 1638 3278 1216 \n",
       "z\n",
       "\" transform=\"scale(0.015625)\"/>\n",
       "       </defs>\n",
       "       <use xlink:href=\"#LiberationSans-33\"/>\n",
       "       <use xlink:href=\"#LiberationSans-2e\" x=\"55.615234\"/>\n",
       "       <use xlink:href=\"#LiberationSans-30\" x=\"83.398438\"/>\n",
       "      </g>\n",
       "     </g>\n",
       "    </g>\n",
       "   </g>\n",
       "   <g id=\"matplotlib.axis_2\">\n",
       "    <g id=\"ytick_1\">\n",
       "     <g id=\"line2d_15\">\n",
       "      <path d=\"M 30.160938 194.989091 \n",
       "L 364.960938 194.989091 \n",
       "\" clip-path=\"url(#p7963f1e8c3)\" style=\"fill: none; stroke: #cccccc; stroke-width: 0.8; stroke-linecap: round\"/>\n",
       "     </g>\n",
       "     <g id=\"line2d_16\"/>\n",
       "     <g id=\"text_8\">\n",
       "      <!-- 0.15 -->\n",
       "      <g style=\"fill: #262626\" transform=\"translate(7.2 198.612528)scale(0.1 -0.1)\">\n",
       "       <use xlink:href=\"#LiberationSans-30\"/>\n",
       "       <use xlink:href=\"#LiberationSans-2e\" x=\"55.615234\"/>\n",
       "       <use xlink:href=\"#LiberationSans-31\" x=\"83.398438\"/>\n",
       "       <use xlink:href=\"#LiberationSans-35\" x=\"139.013672\"/>\n",
       "      </g>\n",
       "     </g>\n",
       "    </g>\n",
       "    <g id=\"ytick_2\">\n",
       "     <g id=\"line2d_17\">\n",
       "      <path d=\"M 30.160938 155.454545 \n",
       "L 364.960938 155.454545 \n",
       "\" clip-path=\"url(#p7963f1e8c3)\" style=\"fill: none; stroke: #cccccc; stroke-width: 0.8; stroke-linecap: round\"/>\n",
       "     </g>\n",
       "     <g id=\"line2d_18\"/>\n",
       "     <g id=\"text_9\">\n",
       "      <!-- 0.20 -->\n",
       "      <g style=\"fill: #262626\" transform=\"translate(7.2 159.077983)scale(0.1 -0.1)\">\n",
       "       <use xlink:href=\"#LiberationSans-30\"/>\n",
       "       <use xlink:href=\"#LiberationSans-2e\" x=\"55.615234\"/>\n",
       "       <use xlink:href=\"#LiberationSans-32\" x=\"83.398438\"/>\n",
       "       <use xlink:href=\"#LiberationSans-30\" x=\"139.013672\"/>\n",
       "      </g>\n",
       "     </g>\n",
       "    </g>\n",
       "    <g id=\"ytick_3\">\n",
       "     <g id=\"line2d_19\">\n",
       "      <path d=\"M 30.160938 115.92 \n",
       "L 364.960938 115.92 \n",
       "\" clip-path=\"url(#p7963f1e8c3)\" style=\"fill: none; stroke: #cccccc; stroke-width: 0.8; stroke-linecap: round\"/>\n",
       "     </g>\n",
       "     <g id=\"line2d_20\"/>\n",
       "     <g id=\"text_10\">\n",
       "      <!-- 0.25 -->\n",
       "      <g style=\"fill: #262626\" transform=\"translate(7.2 119.543437)scale(0.1 -0.1)\">\n",
       "       <use xlink:href=\"#LiberationSans-30\"/>\n",
       "       <use xlink:href=\"#LiberationSans-2e\" x=\"55.615234\"/>\n",
       "       <use xlink:href=\"#LiberationSans-32\" x=\"83.398438\"/>\n",
       "       <use xlink:href=\"#LiberationSans-35\" x=\"139.013672\"/>\n",
       "      </g>\n",
       "     </g>\n",
       "    </g>\n",
       "    <g id=\"ytick_4\">\n",
       "     <g id=\"line2d_21\">\n",
       "      <path d=\"M 30.160938 76.385455 \n",
       "L 364.960938 76.385455 \n",
       "\" clip-path=\"url(#p7963f1e8c3)\" style=\"fill: none; stroke: #cccccc; stroke-width: 0.8; stroke-linecap: round\"/>\n",
       "     </g>\n",
       "     <g id=\"line2d_22\"/>\n",
       "     <g id=\"text_11\">\n",
       "      <!-- 0.30 -->\n",
       "      <g style=\"fill: #262626\" transform=\"translate(7.2 80.008892)scale(0.1 -0.1)\">\n",
       "       <use xlink:href=\"#LiberationSans-30\"/>\n",
       "       <use xlink:href=\"#LiberationSans-2e\" x=\"55.615234\"/>\n",
       "       <use xlink:href=\"#LiberationSans-33\" x=\"83.398438\"/>\n",
       "       <use xlink:href=\"#LiberationSans-30\" x=\"139.013672\"/>\n",
       "      </g>\n",
       "     </g>\n",
       "    </g>\n",
       "    <g id=\"ytick_5\">\n",
       "     <g id=\"line2d_23\">\n",
       "      <path d=\"M 30.160938 36.850909 \n",
       "L 364.960938 36.850909 \n",
       "\" clip-path=\"url(#p7963f1e8c3)\" style=\"fill: none; stroke: #cccccc; stroke-width: 0.8; stroke-linecap: round\"/>\n",
       "     </g>\n",
       "     <g id=\"line2d_24\"/>\n",
       "     <g id=\"text_12\">\n",
       "      <!-- 0.35 -->\n",
       "      <g style=\"fill: #262626\" transform=\"translate(7.2 40.474347)scale(0.1 -0.1)\">\n",
       "       <use xlink:href=\"#LiberationSans-30\"/>\n",
       "       <use xlink:href=\"#LiberationSans-2e\" x=\"55.615234\"/>\n",
       "       <use xlink:href=\"#LiberationSans-33\" x=\"83.398438\"/>\n",
       "       <use xlink:href=\"#LiberationSans-35\" x=\"139.013672\"/>\n",
       "      </g>\n",
       "     </g>\n",
       "    </g>\n",
       "   </g>\n",
       "   <g id=\"line2d_25\">\n",
       "    <path d=\"M 45.379119 214.756364 \n",
       "L 146.833665 17.083636 \n",
       "L 248.28821 17.083636 \n",
       "L 349.742756 214.756364 \n",
       "\" clip-path=\"url(#p7963f1e8c3)\" style=\"fill: none; stroke: #1f77b4; stroke-width: 1.5; stroke-linecap: round\"/>\n",
       "   </g>\n",
       "   <g id=\"patch_3\">\n",
       "    <path d=\"M 30.160938 224.64 \n",
       "L 30.160938 7.2 \n",
       "\" style=\"fill: none; stroke: #cccccc; stroke-linejoin: miter; stroke-linecap: square\"/>\n",
       "   </g>\n",
       "   <g id=\"patch_4\">\n",
       "    <path d=\"M 364.960938 224.64 \n",
       "L 364.960938 7.2 \n",
       "\" style=\"fill: none; stroke: #cccccc; stroke-linejoin: miter; stroke-linecap: square\"/>\n",
       "   </g>\n",
       "   <g id=\"patch_5\">\n",
       "    <path d=\"M 30.160938 224.64 \n",
       "L 364.960938 224.64 \n",
       "\" style=\"fill: none; stroke: #cccccc; stroke-linejoin: miter; stroke-linecap: square\"/>\n",
       "   </g>\n",
       "   <g id=\"patch_6\">\n",
       "    <path d=\"M 30.160938 7.2 \n",
       "L 364.960938 7.2 \n",
       "\" style=\"fill: none; stroke: #cccccc; stroke-linejoin: miter; stroke-linecap: square\"/>\n",
       "   </g>\n",
       "  </g>\n",
       " </g>\n",
       " <defs>\n",
       "  <clipPath id=\"p7963f1e8c3\">\n",
       "   <rect x=\"30.160938\" y=\"7.2\" width=\"334.8\" height=\"217.44\"/>\n",
       "  </clipPath>\n",
       " </defs>\n",
       "</svg>\n"
      ],
      "text/plain": [
       "<Figure size 432x288 with 1 Axes>"
      ]
     },
     "metadata": {},
     "output_type": "display_data"
    }
   ],
   "source": [
    "plt.plot([p_k1, p_k2, p_k3, p_k4])\n",
    "plt.show()"
   ]
  },
  {
   "cell_type": "code",
   "execution_count": 8,
   "id": "b64d33e3-fc92-4dae-b7c6-80a5bacef6cf",
   "metadata": {},
   "outputs": [
    {
     "data": {
      "text/plain": [
       "(1.5, 0.75)"
      ]
     },
     "execution_count": 8,
     "metadata": {},
     "output_type": "execute_result"
    }
   ],
   "source": [
    "m = n * p\n",
    "d = n * p * (1 - p)\n",
    "m, d"
   ]
  },
  {
   "cell_type": "markdown",
   "id": "0ea08ae6-ae41-4bf9-ba53-5de418b48b25",
   "metadata": {},
   "source": [
    "Распределение Пуассона"
   ]
  },
  {
   "cell_type": "code",
   "execution_count": 9,
   "id": "37f6c058-fe75-4e56-9eba-e2807dede8cd",
   "metadata": {},
   "outputs": [
    {
     "data": {
      "text/plain": [
       "(7.263, 0.195, 0.03)"
      ]
     },
     "execution_count": 9,
     "metadata": {},
     "output_type": "execute_result"
    }
   ],
   "source": [
    "def poisson_proba(k, l):\n",
    "    return (l**k * np.exp(-l)) / np.math.factorial(k)\n",
    "\n",
    "l = 30\n",
    "k1 = 30\n",
    "k2 = range(0, 16)\n",
    "k3 = range(0, 51)\n",
    "\n",
    "p_k1 = round(poisson_proba(k1, l) * 100, 3)\n",
    "p_k2 = round(sum(poisson_proba(k, l) for k in k2) * 100, 3)\n",
    "p_k3 = round((1 - sum(poisson_proba(k, l) for k in k3)) * 100, 3)\n",
    "\n",
    "p_k1, p_k2, p_k3"
   ]
  },
  {
   "cell_type": "code",
   "execution_count": 10,
   "id": "1b81550f-3975-4624-a587-a1978ccf25d7",
   "metadata": {},
   "outputs": [
    {
     "data": {
      "text/plain": [
       "(30, 30)"
      ]
     },
     "execution_count": 10,
     "metadata": {},
     "output_type": "execute_result"
    }
   ],
   "source": [
    "m, d = l, l\n",
    "m, d"
   ]
  },
  {
   "cell_type": "markdown",
   "id": "75a6332b-86ec-465a-addb-f375a69069e5",
   "metadata": {},
   "source": [
    "#### Задача 1. Контрольная работа состоит из пяти вопросов. На каждый вопрос приведено четыре варианта ответа, один из которых правильный. Случайная величина X задаёт число правильных ответов при простом угадывании. Найдите математическое ожидание данной случайной величины. "
   ]
  },
  {
   "cell_type": "code",
   "execution_count": 11,
   "id": "8cb4924e-1f36-44f7-84de-7fddc58bd7dc",
   "metadata": {},
   "outputs": [
    {
     "data": {
      "text/plain": [
       "1.25"
      ]
     },
     "execution_count": 11,
     "metadata": {},
     "output_type": "execute_result"
    }
   ],
   "source": [
    "n = 5 # количество вопросов\n",
    "p = 0.25 # вероятность ответить случайно на 1 вопрос\n",
    "\n",
    "m = n * p\n",
    "m"
   ]
  },
  {
   "cell_type": "markdown",
   "id": "aa9b3249-06ec-456c-8b2e-c00a4dbfd960",
   "metadata": {},
   "source": [
    "#### Задача 2. Контрольная работа состоит из пяти вопросов. На каждый вопрос приведено четыре варианта ответа, один из которых правильный. Случайная величина X задаёт число правильных ответов при простом угадывании. Найдите дисперсию случайной величины X."
   ]
  },
  {
   "cell_type": "code",
   "execution_count": 12,
   "id": "39e5ad07-9bf4-4c7c-8dbf-ad5c2e1f131a",
   "metadata": {},
   "outputs": [
    {
     "data": {
      "text/plain": [
       "0.9375"
      ]
     },
     "execution_count": 12,
     "metadata": {},
     "output_type": "execute_result"
    }
   ],
   "source": [
    "n = 5 # количество вопросов\n",
    "p = 0.25 # вероятность ответить случайно на 1 вопрос\n",
    "\n",
    "d = n * p * (1 - p)\n",
    "d"
   ]
  },
  {
   "cell_type": "markdown",
   "id": "46dcf24b-c674-4bc5-8cda-cb63dd5ca1d5",
   "metadata": {},
   "source": [
    "#### Задача 3. Пользователь получает в среднем 10 писем со спамом на свой почтовый ящик за сутки. Найти число N, такое, что с вероятностью 0.95 пользователь получит не более N писем со спамом за текущий день."
   ]
  },
  {
   "cell_type": "code",
   "execution_count": 13,
   "id": "6c37747b-e8c7-4d64-aaa3-8d2a4dcb7c57",
   "metadata": {},
   "outputs": [
    {
     "data": {
      "text/plain": [
       "(15, 0.9512595966960214)"
      ]
     },
     "execution_count": 13,
     "metadata": {},
     "output_type": "execute_result"
    }
   ],
   "source": [
    "lambda_ = 10\n",
    "n = 1\n",
    "k = range(n)\n",
    "\n",
    "lt = sum([poisson_proba(i, lambda_) for i in k])\n",
    "while lt < 0.95:\n",
    "    n += 1\n",
    "    k = range(n)\n",
    "    lt = sum([poisson_proba(i, lambda_) for i in k])\n",
    "    \n",
    "n - 1, lt"
   ]
  },
  {
   "cell_type": "markdown",
   "id": "2d913f34-6229-46f4-bc75-251087131211",
   "metadata": {},
   "source": [
    "#### Задача 4. Производятся выстрелы по мишени. Вероятность попадания в мишень при одном выстреле равна 0.01. Сколько выстрелов нужно сделать чтобы быть уверенным с вероятностью 0.9, что хотя бы 6 раз будет совершено попадание?"
   ]
  },
  {
   "cell_type": "code",
   "execution_count": 14,
   "id": "0ce0904d-6b06-4062-8582-0fef88be7064",
   "metadata": {},
   "outputs": [
    {
     "data": {
      "text/plain": [
       "(926, 0.9003627121531355)"
      ]
     },
     "execution_count": 14,
     "metadata": {},
     "output_type": "execute_result"
    }
   ],
   "source": [
    "p = 0.01\n",
    "k = 6\n",
    "n = 6\n",
    "\n",
    "p_n = 1 - sum(bernoulli_proba(i, n, p) for i in range(k))\n",
    "while p_n < 0.9:\n",
    "    n += 1\n",
    "    p_n = 1 - sum(bernoulli_proba(i, n, p) for i in range(k))\n",
    "    \n",
    "n, p_n"
   ]
  }
 ],
 "metadata": {
  "kernelspec": {
   "display_name": "Python 3 (ipykernel)",
   "language": "python",
   "name": "python3"
  },
  "language_info": {
   "codemirror_mode": {
    "name": "ipython",
    "version": 3
   },
   "file_extension": ".py",
   "mimetype": "text/x-python",
   "name": "python",
   "nbconvert_exporter": "python",
   "pygments_lexer": "ipython3",
   "version": "3.9.7"
  }
 },
 "nbformat": 4,
 "nbformat_minor": 5
}
