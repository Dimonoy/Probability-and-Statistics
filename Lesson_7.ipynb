{
 "cells": [
  {
   "cell_type": "code",
   "execution_count": 2,
   "id": "42966fb8-d3fc-4725-92ff-9f38ca10c00a",
   "metadata": {},
   "outputs": [],
   "source": [
    "import numpy as np\n",
    "import pandas as pd\n",
    "import seaborn as sns\n",
    "import matplotlib.pyplot as plt\n",
    "from scipy import stats\n",
    "\n",
    "plt.style.use('fivethirtyeight')\n",
    "%config InlineBackend.figure_formats = ['svg']"
   ]
  },
  {
   "cell_type": "code",
   "execution_count": 7,
   "id": "783e3774-3bec-4eff-8eb5-61527ac25b94",
   "metadata": {},
   "outputs": [
    {
     "data": {
      "text/plain": [
       "(10175.37777777778,\n",
       " array([[ 3882.93333333, 10175.37777778],\n",
       "        [10175.37777778, 33854.32222222]]))"
      ]
     },
     "execution_count": 7,
     "metadata": {},
     "output_type": "execute_result"
    }
   ],
   "source": [
    "zp = np.array([35, 45, 190, 200, 40, 70, 54, 150, 120, 110])\n",
    "ks = np.array([401, 574, 874, 919, 459, 739, 653, 902, 746, 832])\n",
    "zp_mean = zp.mean()\n",
    "ks_mean = ks.mean()\n",
    "\n",
    "cov = ((zp - zp_mean) * (ks - ks_mean)).sum() / (zp.shape[0] - 1)\n",
    "numpy_cov = np.cov(zp, ks)\n",
    "\n",
    "cov, numpy_cov"
   ]
  }
 ],
 "metadata": {
  "kernelspec": {
   "display_name": "Python 3 (ipykernel)",
   "language": "python",
   "name": "python3"
  },
  "language_info": {
   "codemirror_mode": {
    "name": "ipython",
    "version": 3
   },
   "file_extension": ".py",
   "mimetype": "text/x-python",
   "name": "python",
   "nbconvert_exporter": "python",
   "pygments_lexer": "ipython3",
   "version": "3.9.7"
  }
 },
 "nbformat": 4,
 "nbformat_minor": 5
}
