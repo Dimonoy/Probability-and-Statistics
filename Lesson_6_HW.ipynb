{
 "cells": [
  {
   "cell_type": "code",
   "execution_count": 1,
   "id": "2c3e651e-2d88-4214-b3b3-2800387a47ec",
   "metadata": {},
   "outputs": [],
   "source": [
    "import numpy as np\n",
    "import pandas as pd\n",
    "from scipy import stats"
   ]
  },
  {
   "cell_type": "markdown",
   "id": "6a1e772f-3d86-4e49-8a0d-ad37a3a21d5d",
   "metadata": {},
   "source": [
    "#### Задача 1.\n",
    "Даны значения величины заработной платы заемщиков банка (zp) и значения их поведенческого кредитного скоринга (ks):\n",
    "\n",
    "zp = [35, 45, 190, 200, 40, 70, 54, 150, 120, 110],\n",
    "\n",
    "ks = [401, 574, 874, 919, 459, 739, 653, 902, 746, 832].\n",
    "\n",
    "Найдите ковариацию этих двух величин с помощью элементарных действий, а затем с помощью функции cov из numpy\n",
    "Полученные значения должны быть равны.\n",
    "Найдите коэффициент корреляции Пирсона с помощью ковариации и среднеквадратичных отклонений двух признаков,\n",
    "а затем с использованием функций из библиотек numpy и pandas."
   ]
  },
  {
   "cell_type": "code",
   "execution_count": 2,
   "id": "a1ff86b3-bcaf-4ee8-a89a-5719d10feef4",
   "metadata": {},
   "outputs": [
    {
     "data": {
      "text/plain": [
       "(10175.37777777778,\n",
       " array([[ 3882.93333333, 10175.37777778],\n",
       "        [10175.37777778, 33854.32222222]]))"
      ]
     },
     "execution_count": 2,
     "metadata": {},
     "output_type": "execute_result"
    }
   ],
   "source": [
    "zp = np.array([35, 45, 190, 200, 40, 70, 54, 150, 120, 110])\n",
    "ks = np.array([401, 574, 874, 919, 459, 739, 653, 902, 746, 832])\n",
    "zp_mean = zp.mean()\n",
    "ks_mean = ks.mean()\n",
    "\n",
    "cov = ((zp - zp_mean) * (ks - ks_mean)).sum() / (zp.shape[0] - 1)\n",
    "numpy_cov = np.cov(zp, ks)\n",
    "\n",
    "cov, numpy_cov"
   ]
  },
  {
   "cell_type": "code",
   "execution_count": 3,
   "id": "17c1739f-989f-4aa7-bf6f-356c75e0f0b0",
   "metadata": {},
   "outputs": [
    {
     "data": {
      "text/plain": [
       "(0.8874900920739164,\n",
       "          zp       ks\n",
       " zp  1.00000  0.88749\n",
       " ks  0.88749  1.00000)"
      ]
     },
     "execution_count": 3,
     "metadata": {},
     "output_type": "execute_result"
    }
   ],
   "source": [
    "cor = cov / (zp.std(ddof=1) * ks.std(ddof=1))\n",
    "numpy_cor = pd.DataFrame({\"zp\": zp, \"ks\": ks}).corr()\n",
    "\n",
    "cor, numpy_cor"
   ]
  },
  {
   "cell_type": "markdown",
   "id": "ad030615-5c4c-498a-b986-3ccd70481e1f",
   "metadata": {},
   "source": [
    "#### Задача 2.\n",
    "\n",
    "Измерены значения IQ выборки студентов,\n",
    "обучающихся в местных технических вузах:\n",
    "131, 125, 115, 122, 131, 115, 107, 99, 125, 111.\n",
    "\n",
    "Известно, что в генеральной совокупности IQ распределен нормально.\n",
    "Найдите доверительный интервал для математического ожидания с надежностью 0.95."
   ]
  },
  {
   "cell_type": "code",
   "execution_count": 4,
   "id": "acfe6329-8301-46f3-997d-a49cc5624c10",
   "metadata": {},
   "outputs": [
    {
     "data": {
      "text/plain": [
       "(110.8044938761216, 125.39550612387839)"
      ]
     },
     "execution_count": 4,
     "metadata": {},
     "output_type": "execute_result"
    }
   ],
   "source": [
    "iq = np.array([131, 125, 115, 122, 131, 115, 107, 99, 125, 111])\n",
    "p = 0.95\n",
    "std = iq.std()\n",
    "mean = iq.mean()\n",
    "alpha = 1 - p\n",
    "n = iq.shape[0]\n",
    "\n",
    "t1 = stats.t.ppf(alpha / 2, df=n-1)\n",
    "t2 = stats.t.ppf(1 - alpha / 2, df=n-1)\n",
    "\n",
    "mean + t1 * (std / np.sqrt(n)), mean + t2 * (std / np.sqrt(n))"
   ]
  },
  {
   "cell_type": "markdown",
   "id": "b6b05f3a-d682-427f-ba38-534894f79b7f",
   "metadata": {},
   "source": [
    "#### Задача 3.\n",
    "Известно, что рост футболистов в сборной распределен нормально\n",
    "с дисперсией генеральной совокупности, равной 25 кв.см. Объем выборки равен 27,\n",
    "среднее выборочное составляет 174.2. Найдите доверительный интервал для математического\n",
    "ожидания с надежностью 0.95."
   ]
  },
  {
   "cell_type": "code",
   "execution_count": 5,
   "id": "6764b903-fdaf-4e3d-be47-b947ff579ce8",
   "metadata": {},
   "outputs": [
    {
     "data": {
      "text/plain": [
       "(172.3140237765397, 176.08597622346028)"
      ]
     },
     "execution_count": 5,
     "metadata": {},
     "output_type": "execute_result"
    }
   ],
   "source": [
    "g_var = 25\n",
    "g_std = np.sqrt(g_var)\n",
    "n = 27\n",
    "mean = 174.2\n",
    "p = 0.95\n",
    "alpha = 1 - p\n",
    "\n",
    "t1 = stats.norm.ppf(alpha / 2)\n",
    "t2 = stats.norm.ppf(1 - alpha / 2)\n",
    "\n",
    "mean + t1 * (g_std / np.sqrt(n)), mean + t2 * (g_std / np.sqrt(n))"
   ]
  }
 ],
 "metadata": {
  "kernelspec": {
   "display_name": "Python 3 (ipykernel)",
   "language": "python",
   "name": "python3"
  },
  "language_info": {
   "codemirror_mode": {
    "name": "ipython",
    "version": 3
   },
   "file_extension": ".py",
   "mimetype": "text/x-python",
   "name": "python",
   "nbconvert_exporter": "python",
   "pygments_lexer": "ipython3",
   "version": "3.9.7"
  }
 },
 "nbformat": 4,
 "nbformat_minor": 5
}
